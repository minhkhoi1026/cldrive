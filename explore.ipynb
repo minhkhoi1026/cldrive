{
 "cells": [
  {
   "cell_type": "code",
   "execution_count": 1,
   "metadata": {},
   "outputs": [],
   "source": [
    "import pandas as pd\n",
    "import json\n",
    "import os\n",
    "\n"
   ]
  },
  {
   "cell_type": "code",
   "execution_count": 2,
   "metadata": {},
   "outputs": [
    {
     "data": {
      "text/plain": [
       "Index(['kernel_path', 'num_runs', 'gsize', 'lsize', 'kernel_name', 'outcome',\n",
       "       'device_name', 'work_item_local_mem_size', 'work_item_private_mem_size',\n",
       "       'transferred_bytes', 'transfer_time_ns', 'kernel_time_ns', 'stderr'],\n",
       "      dtype='object')"
      ]
     },
     "execution_count": 2,
     "metadata": {},
     "output_type": "execute_result"
    }
   ],
   "source": [
    "full_df = pd.read_csv(\"full_cldrive.csv\")\n",
    "full_df.columns\n"
   ]
  },
  {
   "cell_type": "code",
   "execution_count": 3,
   "metadata": {},
   "outputs": [
    {
     "name": "stderr",
     "output_type": "stream",
     "text": [
      "/tmp/ipykernel_260278/2005725956.py:4: SettingWithCopyWarning: \n",
      "A value is trying to be set on a copy of a slice from a DataFrame.\n",
      "Try using .loc[row_indexer,col_indexer] = value instead\n",
      "\n",
      "See the caveats in the documentation: https://pandas.pydata.org/pandas-docs/stable/user_guide/indexing.html#returning-a-view-versus-a-copy\n",
      "  failed_df[\"kernel_id\"] = failed_df[\"kernel_path\"].apply(lambda x: os.path.splitext(os.path.basename(x))[0])\n"
     ]
    },
    {
     "data": {
      "text/plain": [
       "outcome\n",
       "CL_ERROR         55411\n",
       "UNKNOWN_ERROR     1062\n",
       "FAILED             862\n",
       "Name: count, dtype: int64"
      ]
     },
     "execution_count": 3,
     "metadata": {},
     "output_type": "execute_result"
    }
   ],
   "source": [
    "target_errors = [\"CL_ERROR\", \"UNKNOWN_ERROR\", \"FAILED\"]\n",
    "\n",
    "failed_df = full_df[full_df[\"outcome\"].isin(target_errors)]\n",
    "failed_df[\"kernel_id\"] = failed_df[\"kernel_path\"].apply(lambda x: os.path.splitext(os.path.basename(x))[0])\n",
    "failed_df[\"outcome\"].value_counts()\n"
   ]
  },
  {
   "cell_type": "code",
   "execution_count": 8,
   "metadata": {},
   "outputs": [],
   "source": [
    "# randomly select 100 kernels that does not have the same kernel_id\n",
    "result_df = failed_df.groupby(\"kernel_id\").first().reset_index()\n",
    "result_df = result_df[[\"kernel_path\", \"gsize\", \"lsize\", \"outcome\"]]\n",
    "# result_df = result_df.sample(n=100, random_state=42)\n",
    "result_df.to_json(\"mem_analysis_pilot.jsonl\", orient=\"records\", lines=True)\n"
   ]
  },
  {
   "cell_type": "code",
   "execution_count": 11,
   "metadata": {},
   "outputs": [
    {
     "name": "stdout",
     "output_type": "stream",
     "text": [
      "mem-analysis/017cf2dc3a55e48deec9a19bbcb94ac1ed1643465000cb097daac9ef0d529a7e.json\n",
      "mem-analysis/02bac87c12d5d2736fdb7d7a1328abdf6e04ed0a0553da5c58202df3dc31cece.json\n",
      "mem-analysis/033d87695007fa01f1d0e5e4f478299420dea48fe00089a73457336c1ce489a9.json\n",
      "mem-analysis/035f57cf2b4d3f44af0cfab15a4f64bf363d94fed0d1bab20cb7095b34493674.json\n",
      "mem-analysis/06a8472cb37efb559a02156fbdd32eef61cab11946793703300086e9dfcc92d1.json\n",
      "mem-analysis/07a86874c21c6f3dbef03ec1be9df5bc155d5f22f92397134a218729b4a7d650.json\n",
      "mem-analysis/096a36db49305f2b02f58b0972316f198e95b513c42c5949b360bb959a8bfc6d.json\n",
      "mem-analysis/09bdf720615887150deb9f2c4deae45c5118c7391bc662b2c8835c34118b102e.json\n",
      "mem-analysis/1016ca27a4ce50b79523f9733f984fa76e1b5da820188357d851c67789a9529d.json\n",
      "mem-analysis/13bc8b8a317d0c1e5779b3100ca32ac313b55ef3a87ff1d2e56c7f18d08102d2.json\n",
      "mem-analysis/1725faeda16c96df4aacd2812c319704102040e7e2f4b5b8caf31f87832cb170.json\n",
      "mem-analysis/1870a99aad90ca925bb9b77cdeca1c7ece030c6565f947bc5d4f607e0762d4a3.json\n",
      "mem-analysis/1b4f61dcb0e9dfdf161512c7bf35d10f69f21f67e18f342aeedef3b9dd59520f.json\n",
      "mem-analysis/1bd9ff42580b64c27dca84150413ed72e7c65cc8635fee1a5c84ac63b0e27ad2.json\n",
      "mem-analysis/1d8a0d86db9eb3965de52909d24c03cf3d2aaf5e966e1e5343158b7527471087.json\n",
      "mem-analysis/21b6a947c40a3028c703584c65e916e1e56e442e0563a0b96fa04ee0300875b6.json\n",
      "mem-analysis/22174b106b89cb8bed3e4358f293be5e3c0491b7cce722358207ea94f8538097.json\n",
      "mem-analysis/28f022e2e85301b8c98aeb7ec252cf6e2de3410c87fc5b5d02257daaaf512c20.json\n",
      "mem-analysis/2a0cc1f5dc50883f8e936142fc627c6cb21bf655b8eda4462a1ab8d7e12b6762.json\n",
      "mem-analysis/2afd2efd4e6aa8bb69dcc490f644a5d1c7666db251a0114678b5bbebb02dcd4d.json\n",
      "mem-analysis/2edd49028559707bd73de926ab26c53576fa5e5de818811f08668499e8f2cb31.json\n",
      "mem-analysis/343c01ccf1b542d9840f397455e56cddab5f45dda7488c11914bb26823f31e20.json\n",
      "mem-analysis/3b1d60c7b01e61495853fb2ffa149187b8fc043668664721c168dc4d6e96a469.json\n",
      "mem-analysis/3c2e49f008d12495c79cfab8b9f6825cefefbd0f44dac1177b84b7a61ecdb0de.json\n",
      "mem-analysis/45fda415efabd929090bcd38c1b8a0745752fef9dae8fb7572cecb968a1f504d.json\n",
      "mem-analysis/4767f0dd29b55979f58b68d500274fda816a5cf48c4dbdfa261b52944d69a66d.json\n",
      "mem-analysis/484b2a13b011abbb31889702e348da5c1cbe214152ad9de30db8d5bc76479ee0.json\n",
      "mem-analysis/4f9b1d7fd501654c34adbeffb65addee38d3f9473f5da5785f9b78705fa0885b.json\n",
      "mem-analysis/5339a0e73db1f30f2dd9b7bded79c7598b156054ce64d884cf68ca4a07ddbc38.json\n",
      "mem-analysis/5934d09055534528d060d1490f01be4d847bde4174ef722b6b23b66db3184a94.json\n",
      "mem-analysis/5f153b0108997f80227e14f014f9470a9b738ab1e536ef64f4cbae5893a01693.json\n",
      "mem-analysis/5fa5236509b07018ee5f928c14bd3fbdfa12c866b0e9f99026fd838cdaf7818f.json\n",
      "mem-analysis/625474ff4fd54bb840981b3dcde1c0e981d197fc0d6ca7561b3be2cbfed71611.json\n",
      "mem-analysis/7031ff188e305ce0cb4dcbe8238c21cf68a9f1f69573238c3ca49bb7d0d2372b.json\n",
      "mem-analysis/70d6c887993ae11f7d06ad4239190802b61149e555bf2b2cf5055d58c08800d4.json\n",
      "mem-analysis/75363fd83ee420a292597f49c95a6baf36caac3e65b2c2178e8bc3e3750a1b73.json\n",
      "mem-analysis/7800adced0cedad5228c8af9b54a48430be6fac54443efa8ba2601e00c4cd105.json\n",
      "mem-analysis/7a6b9c414299e9211f561e92600ad6e47c065209d851c1201d296056233810ac.json\n",
      "mem-analysis/7bb6563cc1a1848286401cea7ce553c11cbbe21741b228a36de72007b50d9763.json\n",
      "mem-analysis/836f6771fae3149535833b6e32432ab33166eb22729772a569243b6a2b787bc2.json\n",
      "mem-analysis/8385dfd020afdb722836511c9f6a83143e8a6ecb26ee870d8546beee0fa551cb.json\n",
      "mem-analysis/8a79426c0201278c0f0975bafaeedc465b436d95a427fd8c3f9287bb235be481.json\n",
      "mem-analysis/8e355ff536c99be01f759aaac95003072f5943261072f97999895d94ef774f4b.json\n",
      "mem-analysis/8efb13d5732de84a9496e78081d08505d5d7142e45ce79b60d3b2cd0d2362a6a.json\n",
      "mem-analysis/94c5c481ae04636220a35cd4655250eec2502ad809a6bbc3d2eb9d3bed3fdb9a.json\n",
      "mem-analysis/9772f6ac7619740c33d16a1d6b6e3b746bde383837dbd42e13da63b1ff1b75e7.json\n",
      "mem-analysis/a6752c4648be7242a7be6521d417d2e49080813e75d65fc5ff1f693d9c9781e5.json\n",
      "mem-analysis/bf8ccdbb5b3ba91ea2dfa49849c52bc9ef9b13d35db070081b280805aae18da2.json\n",
      "mem-analysis/c367548054c183c85f871548d6d7efa3b95233cbd1de70742a7543d933ae178f.json\n",
      "mem-analysis/c6c92de6fb5d3524c15240125b07301a7ad9c0a64393356430fbb6dcce6669aa.json\n",
      "mem-analysis/c8d4e937694d2a382d12d4996bfea14922e949d08ddbdd55b5dfd048318440ba.json\n",
      "mem-analysis/cf76fc16a71b33e146d67e6983b81f265087778ce13d91fb6405d224e5282d45.json\n",
      "mem-analysis/d17f8cbddee2fa5080a8782b0f905ce9e0bd8aea4b89e90f61377210f7dd5b93.json\n",
      "mem-analysis/d6052a268fcbcd7f1b1e90aa3faeae57fa3cd15280022aff9978be429f1f8605.json\n",
      "mem-analysis/d75b10e9526d27c850c021ba2e957e852430837f115e63d36107b2974bc75633.json\n",
      "mem-analysis/d7e6ae46b6582b94bc9d05c308e71d3b06afc20250b483d1dfb2975fb75358f3.json\n",
      "mem-analysis/da2cdc49ad927abd04c20db1bea23b8c115d51112f4ab68f546763450f0c9d0f.json\n",
      "mem-analysis/ebd1bdd6d2267c4733634cc043c34ae0d99f4f309641bbfa5d302bd5e47adecd.json\n",
      "mem-analysis/f08f3f61c2f883df8cd35523bb2cd3901a109f139c687faab1637409cbc03761.json\n",
      "mem-analysis/f1855bb4a52b599cbb69f7b796908b0d9f00d8dcf03bd0f19116ad0e0a62a86a.json\n",
      "mem-analysis/f3fd829de44e87ff6e96b6e1b9fc1cd8b3ab258c6d7cc372450af5c02a185ea6.json\n",
      "mem-analysis/f9c28d8e908897b4b97c60b9787e49d79070653c3f5503a19630189f68e43c12.json\n",
      "mem-analysis/f9c50162112cc0631c2de653562042292c501472bc97107774d9e9a2a7a74cf2.json\n",
      "mem-analysis/ffa7aff4325cc4adb60f79857f51140014f8be8bdf159b31e56b03c80de7f1e9.json\n"
     ]
    }
   ],
   "source": [
    "BACKUP_DIR = \"mem-analysis/\"\n",
    "for i, row in result_df.iterrows():\n",
    "    mem_file = os.path.join(BACKUP_DIR, os.path.splitext(os.path.basename(row[\"kernel_path\"]))[0] + \".json\")\n",
    "    if os.path.exists(mem_file):\n",
    "        print(mem_file)\n"
   ]
  },
  {
   "cell_type": "code",
   "execution_count": 4,
   "metadata": {},
   "outputs": [
    {
     "ename": "FileNotFoundError",
     "evalue": "[Errno 2] No such file or directory: 'backup/'",
     "output_type": "error",
     "traceback": [
      "\u001b[0;31m---------------------------------------------------------------------------\u001b[0m",
      "\u001b[0;31mFileNotFoundError\u001b[0m                         Traceback (most recent call last)",
      "\u001b[1;32m/media/data/khoinnm1/cldrive/explore.ipynb Cell 4\u001b[0m line \u001b[0;36m1\n\u001b[1;32m     <a href='vscode-notebook-cell://ssh-remote%2Bfpt-a10-hoalac1/media/data/khoinnm1/cldrive/explore.ipynb#W3sdnNjb2RlLXJlbW90ZQ%3D%3D?line=10'>11</a>\u001b[0m             jsons_data\u001b[39m.\u001b[39mappend({\u001b[39m\"\u001b[39m\u001b[39mkernel_id\u001b[39m\u001b[39m\"\u001b[39m: os\u001b[39m.\u001b[39mpath\u001b[39m.\u001b[39msplitext(os\u001b[39m.\u001b[39mpath\u001b[39m.\u001b[39mbasename(js))[\u001b[39m0\u001b[39m], \u001b[39m\"\u001b[39m\u001b[39mmem_info\u001b[39m\u001b[39m\"\u001b[39m: json_text, })\n\u001b[1;32m     <a href='vscode-notebook-cell://ssh-remote%2Bfpt-a10-hoalac1/media/data/khoinnm1/cldrive/explore.ipynb#W3sdnNjb2RlLXJlbW90ZQ%3D%3D?line=11'>12</a>\u001b[0m     \u001b[39mreturn\u001b[39;00m jsons_data\n\u001b[0;32m---> <a href='vscode-notebook-cell://ssh-remote%2Bfpt-a10-hoalac1/media/data/khoinnm1/cldrive/explore.ipynb#W3sdnNjb2RlLXJlbW90ZQ%3D%3D?line=13'>14</a>\u001b[0m jsons_data \u001b[39m=\u001b[39m read_json_files(BACKUP_DIR)\n\u001b[1;32m     <a href='vscode-notebook-cell://ssh-remote%2Bfpt-a10-hoalac1/media/data/khoinnm1/cldrive/explore.ipynb#W3sdnNjb2RlLXJlbW90ZQ%3D%3D?line=14'>15</a>\u001b[0m mem_analysis_df \u001b[39m=\u001b[39m pd\u001b[39m.\u001b[39mDataFrame(jsons_data)\n\u001b[1;32m     <a href='vscode-notebook-cell://ssh-remote%2Bfpt-a10-hoalac1/media/data/khoinnm1/cldrive/explore.ipynb#W3sdnNjb2RlLXJlbW90ZQ%3D%3D?line=15'>16</a>\u001b[0m mem_analysis_df[\u001b[39m\"\u001b[39m\u001b[39mkernel_path\u001b[39m\u001b[39m\"\u001b[39m] \u001b[39m=\u001b[39m mem_analysis_df[\u001b[39m\"\u001b[39m\u001b[39mkernel_id\u001b[39m\u001b[39m\"\u001b[39m]\u001b[39m.\u001b[39mapply(\u001b[39mlambda\u001b[39;00m x: os\u001b[39m.\u001b[39mpath\u001b[39m.\u001b[39mjoin(MEM_ANALYSIS_KERNEL_DIR, x \u001b[39m+\u001b[39m \u001b[39m\"\u001b[39m\u001b[39m.cl\u001b[39m\u001b[39m\"\u001b[39m))\n",
      "\u001b[1;32m/media/data/khoinnm1/cldrive/explore.ipynb Cell 4\u001b[0m line \u001b[0;36m6\n\u001b[1;32m      <a href='vscode-notebook-cell://ssh-remote%2Bfpt-a10-hoalac1/media/data/khoinnm1/cldrive/explore.ipynb#W3sdnNjb2RlLXJlbW90ZQ%3D%3D?line=4'>5</a>\u001b[0m \u001b[39mdef\u001b[39;00m \u001b[39mread_json_files\u001b[39m(path):\n\u001b[0;32m----> <a href='vscode-notebook-cell://ssh-remote%2Bfpt-a10-hoalac1/media/data/khoinnm1/cldrive/explore.ipynb#W3sdnNjb2RlLXJlbW90ZQ%3D%3D?line=5'>6</a>\u001b[0m     json_files \u001b[39m=\u001b[39m [pos_json \u001b[39mfor\u001b[39;00m pos_json \u001b[39min\u001b[39;00m os\u001b[39m.\u001b[39;49mlistdir(path) \u001b[39mif\u001b[39;00m pos_json\u001b[39m.\u001b[39mendswith(\u001b[39m'\u001b[39m\u001b[39m.json\u001b[39m\u001b[39m'\u001b[39m)]\n\u001b[1;32m      <a href='vscode-notebook-cell://ssh-remote%2Bfpt-a10-hoalac1/media/data/khoinnm1/cldrive/explore.ipynb#W3sdnNjb2RlLXJlbW90ZQ%3D%3D?line=6'>7</a>\u001b[0m     jsons_data \u001b[39m=\u001b[39m []\n\u001b[1;32m      <a href='vscode-notebook-cell://ssh-remote%2Bfpt-a10-hoalac1/media/data/khoinnm1/cldrive/explore.ipynb#W3sdnNjb2RlLXJlbW90ZQ%3D%3D?line=7'>8</a>\u001b[0m     \u001b[39mfor\u001b[39;00m index, js \u001b[39min\u001b[39;00m \u001b[39menumerate\u001b[39m(json_files):\n",
      "\u001b[0;31mFileNotFoundError\u001b[0m: [Errno 2] No such file or directory: 'backup/'"
     ]
    }
   ],
   "source": [
    "# read all files in the directory, each file is a json, to a list, then create a dataframe\n",
    "BACKUP_DIR = \"mem-analysis/\"\n",
    "MEM_ANALYSIS_KERNEL_DIR = \"kernels-modified/\"\n",
    "\n",
    "def read_json_files(path):\n",
    "    json_files = [pos_json for pos_json in os.listdir(path) if pos_json.endswith('.json')]\n",
    "    jsons_data = []\n",
    "    for index, js in enumerate(json_files):\n",
    "        with open(os.path.join(path, js)) as json_file:\n",
    "            json_text = json.load(json_file)\n",
    "            jsons_data.append({\"kernel_id\": os.path.splitext(os.path.basename(js))[0], \"mem_info\": json_text, })\n",
    "    return jsons_data\n",
    "\n",
    "jsons_data = read_json_files(BACKUP_DIR)\n",
    "mem_analysis_df = pd.DataFrame(jsons_data)\n",
    "mem_analysis_df[\"kernel_path\"] = mem_analysis_df[\"kernel_id\"].apply(lambda x: os.path.join(MEM_ANALYSIS_KERNEL_DIR, x + \".cl\"))\n",
    "mem_analysis_df.head()\n"
   ]
  },
  {
   "cell_type": "code",
   "execution_count": null,
   "metadata": {},
   "outputs": [
    {
     "data": {
      "text/plain": [
       "Index(['kernel_path_x', 'num_runs', 'gsize', 'lsize', 'kernel_name', 'outcome',\n",
       "       'device_name', 'work_item_local_mem_size', 'work_item_private_mem_size',\n",
       "       'transferred_bytes', 'transfer_time_ns', 'kernel_time_ns', 'stderr',\n",
       "       'kernel_id', 'mem_info', 'kernel_path_y'],\n",
       "      dtype='object')"
      ]
     },
     "execution_count": 26,
     "metadata": {},
     "output_type": "execute_result"
    }
   ],
   "source": [
    "joined_df = pd.merge(failed_df, mem_analysis_df, on=\"kernel_id\", how=\"inner\")\n",
    "joined_df.columns\n"
   ]
  },
  {
   "cell_type": "code",
   "execution_count": null,
   "metadata": {},
   "outputs": [],
   "source": [
    "# randomly select 100 kernels that does not have the same kernel_id\n",
    "result_df = joined_df.groupby(\"kernel_id\").first().reset_index()\n",
    "result_df[\"kernel_path\"] = result_df[\"kernel_path_y\"]\n",
    "result_df = result_df[[\"kernel_path\", \"kernel_id\", \"gsize\", \"lsize\", \"mem_info\", \"outcome\"]]\n",
    "result_df.to_json(\"mem_analysis_pilot.jsonl\", orient=\"records\", lines=True)\n"
   ]
  },
  {
   "cell_type": "code",
   "execution_count": null,
   "metadata": {},
   "outputs": [],
   "source": []
  }
 ],
 "metadata": {
  "kernelspec": {
   "display_name": "cldrive",
   "language": "python",
   "name": "python3"
  },
  "language_info": {
   "codemirror_mode": {
    "name": "ipython",
    "version": 3
   },
   "file_extension": ".py",
   "mimetype": "text/x-python",
   "name": "python",
   "nbconvert_exporter": "python",
   "pygments_lexer": "ipython3",
   "version": "3.8.16"
  }
 },
 "nbformat": 4,
 "nbformat_minor": 2
}
